{
 "cells": [
  {
   "cell_type": "code",
   "execution_count": 1,
   "id": "09c26b85",
   "metadata": {},
   "outputs": [],
   "source": [
    "#Derin Otokodlayıcılar (Deep Autoencoders) - Anomali Tespiti"
   ]
  },
  {
   "cell_type": "code",
   "execution_count": 2,
   "id": "29b19971",
   "metadata": {},
   "outputs": [
    {
     "name": "stderr",
     "output_type": "stream",
     "text": [
      "Using TensorFlow backend.\n",
      "C:\\Users\\ITU\\AppData\\Roaming\\Python\\Python36\\site-packages\\tensorflow\\python\\framework\\dtypes.py:516: FutureWarning: Passing (type, 1) or '1type' as a synonym of type is deprecated; in a future version of numpy, it will be understood as (type, (1,)) / '(1,)type'.\n",
      "  _np_qint8 = np.dtype([(\"qint8\", np.int8, 1)])\n",
      "C:\\Users\\ITU\\AppData\\Roaming\\Python\\Python36\\site-packages\\tensorflow\\python\\framework\\dtypes.py:517: FutureWarning: Passing (type, 1) or '1type' as a synonym of type is deprecated; in a future version of numpy, it will be understood as (type, (1,)) / '(1,)type'.\n",
      "  _np_quint8 = np.dtype([(\"quint8\", np.uint8, 1)])\n",
      "C:\\Users\\ITU\\AppData\\Roaming\\Python\\Python36\\site-packages\\tensorflow\\python\\framework\\dtypes.py:518: FutureWarning: Passing (type, 1) or '1type' as a synonym of type is deprecated; in a future version of numpy, it will be understood as (type, (1,)) / '(1,)type'.\n",
      "  _np_qint16 = np.dtype([(\"qint16\", np.int16, 1)])\n",
      "C:\\Users\\ITU\\AppData\\Roaming\\Python\\Python36\\site-packages\\tensorflow\\python\\framework\\dtypes.py:519: FutureWarning: Passing (type, 1) or '1type' as a synonym of type is deprecated; in a future version of numpy, it will be understood as (type, (1,)) / '(1,)type'.\n",
      "  _np_quint16 = np.dtype([(\"quint16\", np.uint16, 1)])\n",
      "C:\\Users\\ITU\\AppData\\Roaming\\Python\\Python36\\site-packages\\tensorflow\\python\\framework\\dtypes.py:520: FutureWarning: Passing (type, 1) or '1type' as a synonym of type is deprecated; in a future version of numpy, it will be understood as (type, (1,)) / '(1,)type'.\n",
      "  _np_qint32 = np.dtype([(\"qint32\", np.int32, 1)])\n",
      "C:\\Users\\ITU\\AppData\\Roaming\\Python\\Python36\\site-packages\\tensorflow\\python\\framework\\dtypes.py:525: FutureWarning: Passing (type, 1) or '1type' as a synonym of type is deprecated; in a future version of numpy, it will be understood as (type, (1,)) / '(1,)type'.\n",
      "  np_resource = np.dtype([(\"resource\", np.ubyte, 1)])\n"
     ]
    }
   ],
   "source": [
    "import pandas as pd\n",
    "import numpy as np\n",
    "import matplotlib.pyplot as plt\n",
    "from keras.layers import Input, Dense\n",
    "from keras.models import Model"
   ]
  },
  {
   "cell_type": "code",
   "execution_count": 3,
   "id": "47f9e3dc",
   "metadata": {},
   "outputs": [],
   "source": [
    "data = pd.read_csv(\"https://archive.ics.uci.edu/ml/machine-learning-databases/haberman/haberman.data\",\n",
    "                  names = [\"Age_of_patient\", \"year_of_operation\", \"positive_axillary_nodes\", \n",
    "                          \"Survival_status\"])"
   ]
  },
  {
   "cell_type": "code",
   "execution_count": 4,
   "id": "8c9d91e7",
   "metadata": {},
   "outputs": [
    {
     "name": "stdout",
     "output_type": "stream",
     "text": [
      "   Age_of_patient  year_of_operation  positive_axillary_nodes  Survival_status\n",
      "0              30                 64                        1                1\n",
      "1              30                 62                        3                1\n",
      "2              30                 65                        0                1\n",
      "3              31                 59                        2                1\n",
      "4              31                 65                        4                1\n"
     ]
    }
   ],
   "source": [
    "print(data.head())"
   ]
  },
  {
   "cell_type": "code",
   "execution_count": 5,
   "id": "324a910d",
   "metadata": {},
   "outputs": [
    {
     "name": "stdout",
     "output_type": "stream",
     "text": [
      "(306, 4)\n"
     ]
    }
   ],
   "source": [
    "print(data.shape)"
   ]
  },
  {
   "cell_type": "code",
   "execution_count": 6,
   "id": "3a58fc1a",
   "metadata": {},
   "outputs": [],
   "source": [
    "X = data.drop(\"Survival_status\", axis = 1) \n",
    "y = data[\"Survival_status\"]"
   ]
  },
  {
   "cell_type": "code",
   "execution_count": 7,
   "id": "44b6fc65",
   "metadata": {},
   "outputs": [],
   "source": [
    "#Normalizasyon\n",
    "from sklearn.preprocessing import MinMaxScaler\n",
    "işlem = MinMaxScaler(feature_range = (0,1))\n",
    "X = işlem.fit_transform(X)"
   ]
  },
  {
   "cell_type": "code",
   "execution_count": 10,
   "id": "5e57e3e0",
   "metadata": {},
   "outputs": [],
   "source": [
    "feature_sayısı = X.shape[1]\n",
    "giriş_boyutu = Input(shape = (feature_sayısı, ))\n",
    "\n",
    "#Kodlanacak değişkenlerin sayısı (darboğaz nöron sayısı)\n",
    "darboğaz_boyutu = 2\n",
    "\n",
    "#Kodlayıcı (Encoder) katmanlarının tanımlanması\n",
    "kodlayıcı = Dense(3, activation = \"relu\")(giriş_boyutu)\n",
    "kodlayıcı = Dense(3, activation = \"relu\")(giriş_boyutu)\n",
    "\n",
    "#Darboğazın tanımlanması\n",
    "kodlayıcı = Dense(darboğaz_boyutu, activation = \"relu\")(kodlayıcı)\n",
    "\n",
    "#Kod_çözücü\n",
    "kod_çözücü = Dense(3, activation = \"relu\")(kodlayıcı)\n",
    "\n",
    "kod_çözücü = Dense(feature_sayısı, activation = \"sigmoid\")(kodlayıcı)"
   ]
  },
  {
   "cell_type": "code",
   "execution_count": 11,
   "id": "da074c90",
   "metadata": {},
   "outputs": [],
   "source": [
    "#Otokodlayıcı modelin tanımlanması\n",
    "otokodlayıcı = Model(\n",
    "    inputs = giriş_boyutu,\n",
    "    outputs = kod_çözücü\n",
    ")"
   ]
  },
  {
   "cell_type": "code",
   "execution_count": 12,
   "id": "54fb3d0d",
   "metadata": {},
   "outputs": [
    {
     "data": {
      "image/png": "[encoded data removed]",
      "text/plain": [
       "<IPython.core.display.Image object>"
      ]
     },
     "execution_count": 12,
     "metadata": {},
     "output_type": "execute_result"
    }
   ],
   "source": [
    "import tensorflow as tf\n",
    "tf.keras.utils.plot_model(otokodlayıcı, \"AIGroup7-haberman.png\", show_shapes = True, \n",
    "                          show_layer_names = True)"
   ]
  },
  {
   "cell_type": "code",
   "execution_count": 13,
   "id": "8d12d170",
   "metadata": {},
   "outputs": [],
   "source": [
    "otokodlayıcı.compile(\n",
    "    loss = \"mse\",\n",
    "    optimizer = \"adam\"\n",
    ")"
   ]
  },
  {
   "cell_type": "code",
   "execution_count": 14,
   "id": "9da763f3",
   "metadata": {},
   "outputs": [
    {
     "name": "stdout",
     "output_type": "stream",
     "text": [
      "WARNING:tensorflow:From C:\\Users\\ITU\\anaconda3\\envs\\tf\\lib\\site-packages\\keras\\backend\\tensorflow_backend.py:422: The name tf.global_variables is deprecated. Please use tf.compat.v1.global_variables instead.\n",
      "\n",
      "Train on 244 samples, validate on 62 samples\n",
      "Epoch 1/100\n",
      " - 0s - loss: 0.1089 - val_loss: 0.1193\n",
      "Epoch 2/100\n",
      " - 0s - loss: 0.1073 - val_loss: 0.1187\n",
      "Epoch 3/100\n",
      " - 0s - loss: 0.1058 - val_loss: 0.1181\n",
      "Epoch 4/100\n",
      " - 0s - loss: 0.1042 - val_loss: 0.1175\n",
      "Epoch 5/100\n",
      " - 0s - loss: 0.1028 - val_loss: 0.1169\n",
      "Epoch 6/100\n",
      " - 0s - loss: 0.1014 - val_loss: 0.1163\n",
      "Epoch 7/100\n",
      " - 0s - loss: 0.0999 - val_loss: 0.1156\n",
      "Epoch 8/100\n",
      " - 0s - loss: 0.0986 - val_loss: 0.1150\n",
      "Epoch 9/100\n",
      " - 0s - loss: 0.0973 - val_loss: 0.1144\n",
      "Epoch 10/100\n",
      " - 0s - loss: 0.0960 - val_loss: 0.1138\n",
      "Epoch 11/100\n",
      " - 0s - loss: 0.0947 - val_loss: 0.1131\n",
      "Epoch 12/100\n",
      " - 0s - loss: 0.0934 - val_loss: 0.1124\n",
      "Epoch 13/100\n",
      " - 0s - loss: 0.0922 - val_loss: 0.1112\n",
      "Epoch 14/100\n",
      " - 0s - loss: 0.0908 - val_loss: 0.1085\n",
      "Epoch 15/100\n",
      " - 0s - loss: 0.0893 - val_loss: 0.1040\n",
      "Epoch 16/100\n",
      " - 0s - loss: 0.0875 - val_loss: 0.1005\n",
      "Epoch 17/100\n",
      " - 0s - loss: 0.0854 - val_loss: 0.0962\n",
      "Epoch 18/100\n",
      " - 0s - loss: 0.0830 - val_loss: 0.0911\n",
      "Epoch 19/100\n",
      " - 0s - loss: 0.0804 - val_loss: 0.0865\n",
      "Epoch 20/100\n",
      " - 0s - loss: 0.0776 - val_loss: 0.0825\n",
      "Epoch 21/100\n",
      " - 0s - loss: 0.0746 - val_loss: 0.0788\n",
      "Epoch 22/100\n",
      " - 0s - loss: 0.0716 - val_loss: 0.0757\n",
      "Epoch 23/100\n",
      " - 0s - loss: 0.0686 - val_loss: 0.0730\n",
      "Epoch 24/100\n",
      " - 0s - loss: 0.0657 - val_loss: 0.0708\n",
      "Epoch 25/100\n",
      " - 0s - loss: 0.0629 - val_loss: 0.0695\n",
      "Epoch 26/100\n",
      " - 0s - loss: 0.0603 - val_loss: 0.0682\n",
      "Epoch 27/100\n",
      " - 0s - loss: 0.0578 - val_loss: 0.0675\n",
      "Epoch 28/100\n",
      " - 0s - loss: 0.0556 - val_loss: 0.0670\n",
      "Epoch 29/100\n",
      " - 0s - loss: 0.0534 - val_loss: 0.0668\n",
      "Epoch 30/100\n",
      " - 0s - loss: 0.0514 - val_loss: 0.0670\n",
      "Epoch 31/100\n",
      " - 0s - loss: 0.0496 - val_loss: 0.0673\n",
      "Epoch 32/100\n",
      " - 0s - loss: 0.0480 - val_loss: 0.0677\n",
      "Epoch 33/100\n",
      " - 0s - loss: 0.0464 - val_loss: 0.0683\n",
      "Epoch 34/100\n",
      " - 0s - loss: 0.0451 - val_loss: 0.0690\n",
      "Epoch 35/100\n",
      " - 0s - loss: 0.0439 - val_loss: 0.0695\n",
      "Epoch 36/100\n",
      " - 0s - loss: 0.0429 - val_loss: 0.0696\n",
      "Epoch 37/100\n",
      " - 0s - loss: 0.0419 - val_loss: 0.0704\n",
      "Epoch 38/100\n",
      " - 0s - loss: 0.0410 - val_loss: 0.0716\n",
      "Epoch 39/100\n",
      " - 0s - loss: 0.0401 - val_loss: 0.0721\n",
      "Epoch 40/100\n",
      " - 0s - loss: 0.0394 - val_loss: 0.0721\n",
      "Epoch 41/100\n",
      " - 0s - loss: 0.0387 - val_loss: 0.0729\n",
      "Epoch 42/100\n",
      " - 0s - loss: 0.0381 - val_loss: 0.0728\n",
      "Epoch 43/100\n",
      " - 0s - loss: 0.0375 - val_loss: 0.0733\n",
      "Epoch 44/100\n",
      " - 0s - loss: 0.0370 - val_loss: 0.0735\n",
      "Epoch 45/100\n",
      " - 0s - loss: 0.0365 - val_loss: 0.0735\n",
      "Epoch 46/100\n",
      " - 0s - loss: 0.0360 - val_loss: 0.0734\n",
      "Epoch 47/100\n",
      " - 0s - loss: 0.0356 - val_loss: 0.0735\n",
      "Epoch 48/100\n",
      " - 0s - loss: 0.0351 - val_loss: 0.0736\n",
      "Epoch 49/100\n",
      " - 0s - loss: 0.0347 - val_loss: 0.0734\n",
      "Epoch 50/100\n",
      " - 0s - loss: 0.0343 - val_loss: 0.0732\n",
      "Epoch 51/100\n",
      " - 0s - loss: 0.0339 - val_loss: 0.0737\n",
      "Epoch 52/100\n",
      " - 0s - loss: 0.0335 - val_loss: 0.0733\n",
      "Epoch 53/100\n",
      " - 0s - loss: 0.0331 - val_loss: 0.0735\n",
      "Epoch 54/100\n",
      " - 0s - loss: 0.0328 - val_loss: 0.0731\n",
      "Epoch 55/100\n",
      " - 0s - loss: 0.0324 - val_loss: 0.0722\n",
      "Epoch 56/100\n",
      " - 0s - loss: 0.0320 - val_loss: 0.0718\n",
      "Epoch 57/100\n",
      " - 0s - loss: 0.0317 - val_loss: 0.0715\n",
      "Epoch 58/100\n",
      " - 0s - loss: 0.0313 - val_loss: 0.0714\n",
      "Epoch 59/100\n",
      " - 0s - loss: 0.0310 - val_loss: 0.0709\n",
      "Epoch 60/100\n",
      " - 0s - loss: 0.0307 - val_loss: 0.0705\n",
      "Epoch 61/100\n",
      " - 0s - loss: 0.0303 - val_loss: 0.0700\n",
      "Epoch 62/100\n",
      " - 0s - loss: 0.0300 - val_loss: 0.0698\n",
      "Epoch 63/100\n",
      " - 0s - loss: 0.0298 - val_loss: 0.0695\n",
      "Epoch 64/100\n",
      " - 0s - loss: 0.0295 - val_loss: 0.0692\n",
      "Epoch 65/100\n",
      " - 0s - loss: 0.0292 - val_loss: 0.0690\n",
      "Epoch 66/100\n",
      " - 0s - loss: 0.0289 - val_loss: 0.0686\n",
      "Epoch 67/100\n",
      " - 0s - loss: 0.0286 - val_loss: 0.0684\n",
      "Epoch 68/100\n",
      " - 0s - loss: 0.0284 - val_loss: 0.0682\n",
      "Epoch 69/100\n",
      " - 0s - loss: 0.0281 - val_loss: 0.0682\n",
      "Epoch 70/100\n",
      " - 0s - loss: 0.0279 - val_loss: 0.0682\n",
      "Epoch 71/100\n",
      " - 0s - loss: 0.0276 - val_loss: 0.0684\n",
      "Epoch 72/100\n",
      " - 0s - loss: 0.0274 - val_loss: 0.0685\n",
      "Epoch 73/100\n",
      " - 0s - loss: 0.0271 - val_loss: 0.0677\n",
      "Epoch 74/100\n",
      " - 0s - loss: 0.0269 - val_loss: 0.0674\n",
      "Epoch 75/100\n",
      " - 0s - loss: 0.0267 - val_loss: 0.0674\n",
      "Epoch 76/100\n",
      " - 0s - loss: 0.0264 - val_loss: 0.0670\n",
      "Epoch 77/100\n",
      " - 0s - loss: 0.0262 - val_loss: 0.0665\n",
      "Epoch 78/100\n",
      " - 0s - loss: 0.0260 - val_loss: 0.0662\n",
      "Epoch 79/100\n",
      " - 0s - loss: 0.0258 - val_loss: 0.0662\n",
      "Epoch 80/100\n",
      " - 0s - loss: 0.0257 - val_loss: 0.0654\n",
      "Epoch 81/100\n",
      " - 0s - loss: 0.0255 - val_loss: 0.0654\n",
      "Epoch 82/100\n",
      " - 0s - loss: 0.0253 - val_loss: 0.0654\n",
      "Epoch 83/100\n",
      " - 0s - loss: 0.0251 - val_loss: 0.0648\n",
      "Epoch 84/100\n",
      " - 0s - loss: 0.0249 - val_loss: 0.0648\n",
      "Epoch 85/100\n",
      " - 0s - loss: 0.0248 - val_loss: 0.0645\n",
      "Epoch 86/100\n",
      " - 0s - loss: 0.0246 - val_loss: 0.0643\n",
      "Epoch 87/100\n",
      " - 0s - loss: 0.0245 - val_loss: 0.0645\n",
      "Epoch 88/100\n",
      " - 0s - loss: 0.0243 - val_loss: 0.0642\n",
      "Epoch 89/100\n",
      " - 0s - loss: 0.0241 - val_loss: 0.0641\n",
      "Epoch 90/100\n",
      " - 0s - loss: 0.0240 - val_loss: 0.0635\n",
      "Epoch 91/100\n",
      " - 0s - loss: 0.0238 - val_loss: 0.0632\n",
      "Epoch 92/100\n",
      " - 0s - loss: 0.0237 - val_loss: 0.0627\n",
      "Epoch 93/100\n",
      " - 0s - loss: 0.0236 - val_loss: 0.0628\n",
      "Epoch 94/100\n",
      " - 0s - loss: 0.0234 - val_loss: 0.0625\n",
      "Epoch 95/100\n",
      " - 0s - loss: 0.0233 - val_loss: 0.0624\n",
      "Epoch 96/100\n",
      " - 0s - loss: 0.0232 - val_loss: 0.0628\n",
      "Epoch 97/100\n",
      " - 0s - loss: 0.0230 - val_loss: 0.0624\n",
      "Epoch 98/100\n",
      " - 0s - loss: 0.0229 - val_loss: 0.0620\n",
      "Epoch 99/100\n",
      " - 0s - loss: 0.0228 - val_loss: 0.0619\n",
      "Epoch 100/100\n",
      " - 0s - loss: 0.0227 - val_loss: 0.0624\n"
     ]
    }
   ],
   "source": [
    "history = otokodlayıcı.fit(\n",
    "    X,\n",
    "    X,\n",
    "    epochs = 100,\n",
    "    batch_size = 16,\n",
    "    verbose = 2,\n",
    "    validation_split = 0.2\n",
    ")"
   ]
  },
  {
   "cell_type": "code",
   "execution_count": 16,
   "id": "880e76d5",
   "metadata": {},
   "outputs": [
    {
     "data": {
      "image/png": "[encoded data removed]",
      "text/plain": [
       "<Figure size 432x288 with 1 Axes>"
      ]
     },
     "metadata": {
      "needs_background": "light"
     },
     "output_type": "display_data"
    }
   ],
   "source": [
    "#Eğitilen modelin hatası ve doğrulama hatası\n",
    "plt.plot(history.history[\"loss\"], \"--\")\n",
    "plt.plot(history.history[\"val_loss\"])\n",
    "plt.title(\"Otokodlayıcı modelde eğitim hatası\")\n",
    "plt.ylabel(\"Hatalar\")\n",
    "plt.xlabel(\"Devir hatası\")\n",
    "plt.legend([\"Eğitim hatası\", \"Doğrulama Hatası\"], loc = \"upper right\")\n",
    "plt.show()"
   ]
  },
  {
   "cell_type": "code",
   "execution_count": 17,
   "id": "e0c9920e",
   "metadata": {},
   "outputs": [
    {
     "data": {
      "image/png": "[encoded data removed]",
      "text/plain": [
       "<Figure size 432x288 with 1 Axes>"
      ]
     },
     "metadata": {
      "needs_background": "light"
     },
     "output_type": "display_data"
    }
   ],
   "source": [
    "predictions = otokodlayıcı.predict(X)\n",
    "mse = np.mean(np.power(X - predictions, 2), axis = 1)\n",
    "\n",
    "#Reconstruction (Yeniden yapılandırma) hata grafiği\n",
    "plt.plot(mse, linewidth = 0, label = \"Eğitim\", marker = '.')\n",
    "plt.title(\"Yeniden yapılandırma hataları\")\n",
    "plt.ylabel(\"mse\")\n",
    "plt.xlabel(\"Gözlemler\")\n",
    "plt.show()"
   ]
  },
  {
   "cell_type": "code",
   "execution_count": 18,
   "id": "50961fdc",
   "metadata": {},
   "outputs": [
    {
     "name": "stdout",
     "output_type": "stream",
     "text": [
      "\n",
      " Eşik değeri giriniz : \n",
      "\n",
      "0.11\n"
     ]
    }
   ],
   "source": [
    "print(\"\\n Eşik değeri giriniz : \\n\")\n",
    "eşik = float(input())"
   ]
  },
  {
   "cell_type": "code",
   "execution_count": 19,
   "id": "d38c42b0",
   "metadata": {},
   "outputs": [
    {
     "data": {
      "image/png": "[encoded data removed]",
      "text/plain": [
       "<Figure size 432x288 with 1 Axes>"
      ]
     },
     "metadata": {
      "needs_background": "light"
     },
     "output_type": "display_data"
    }
   ],
   "source": [
    "plt.plot(mse, linewidth = 0, label = \"Eğitim\", marker = \".\")\n",
    "plt.ylabel(\"mse\")\n",
    "plt.xlabel(\"Gözlemler\")\n",
    "plt.axhline(y = eşik, color = \"r\")\n",
    "plt.show()"
   ]
  },
  {
   "cell_type": "code",
   "execution_count": 20,
   "id": "abd6ce7e",
   "metadata": {},
   "outputs": [
    {
     "name": "stdout",
     "output_type": "stream",
     "text": [
      "Anormal değerlerin sayısı (7, 4)\n"
     ]
    }
   ],
   "source": [
    "anormal = pd.DataFrame(data[mse > eşik])\n",
    "print(\"Anormal değerlerin sayısı\", anormal.shape)"
   ]
  },
  {
   "cell_type": "code",
   "execution_count": 21,
   "id": "827c0f68",
   "metadata": {},
   "outputs": [
    {
     "name": "stdout",
     "output_type": "stream",
     "text": [
      "Anormal değerler: \n",
      "      Age_of_patient  year_of_operation  positive_axillary_nodes  \\\n",
      "9                34                 58                       30   \n",
      "62               43                 58                       52   \n",
      "298              73                 68                        0   \n",
      "302              76                 67                        0   \n",
      "303              77                 65                        3   \n",
      "304              78                 65                        1   \n",
      "305              83                 58                        2   \n",
      "\n",
      "     Survival_status  \n",
      "9                  1  \n",
      "62                 2  \n",
      "298                1  \n",
      "302                1  \n",
      "303                1  \n",
      "304                2  \n",
      "305                2  \n"
     ]
    }
   ],
   "source": [
    "print(\"Anormal değerler: \\n\", anormal)"
   ]
  },
  {
   "cell_type": "code",
   "execution_count": 22,
   "id": "e64b7746",
   "metadata": {},
   "outputs": [
    {
     "name": "stdout",
     "output_type": "stream",
     "text": [
      "Önceki veri :  (306, 3)\n",
      "Yeni veri :  (299, 4)\n"
     ]
    }
   ],
   "source": [
    "anormal_yok = pd.DataFrame(data[mse <= eşik])\n",
    "print(\"Önceki veri : \", X.shape)\n",
    "\n",
    "print(\"Yeni veri : \", anormal_yok.shape)"
   ]
  },
  {
   "cell_type": "code",
   "execution_count": 23,
   "id": "2f73240d",
   "metadata": {},
   "outputs": [],
   "source": [
    "çıkış = pd.DataFrame(anormal_yok)\n",
    "çıkış.to_csv(\"data/haberman_yeni.csv\", index = False)"
   ]
  },
  {
   "cell_type": "code",
   "execution_count": null,
   "id": "00c51ed9",
   "metadata": {},
   "outputs": [],
   "source": []
  }
 ],
 "metadata": {
  "kernelspec": {
   "display_name": "Python 3",
   "language": "python",
   "name": "python3"
  },
  "language_info": {
   "codemirror_mode": {
    "name": "ipython",
    "version": 3
   },
   "file_extension": ".py",
   "mimetype": "text/x-python",
   "name": "python",
   "nbconvert_exporter": "python",
   "pygments_lexer": "ipython3",
   "version": "3.8.8"
  }
 },
 "nbformat": 4,
 "nbformat_minor": 5
}
